{
 "cells": [
  {
   "cell_type": "markdown",
   "metadata": {},
   "source": [
    "# An introduction into the tools and tutorials available for the analysis of TESS data\n",
    "\n",
    "Welcome to our *TESS* Lightkurve tutorial!"
   ]
  },
  {
   "cell_type": "markdown",
   "metadata": {},
   "source": [
    "## Authors\n",
    "\n",
    "[Rebekah Hounsell](https://heasarc.gsfc.nasa.gov/docs/tess/helpdesk.html) - Support scientist for *TESS* in the NASA GSFC GI Office. \n",
    "\n",
    "<img src=\"helpdesk.png\" style=\"width: 80%\"/>"
   ]
  },
  {
   "cell_type": "markdown",
   "metadata": {},
   "source": [
    "## Learning Goals\n",
    "\n",
    "In this tutorial, we will teach the user how to access, analyze, and manipulate data from the NASA Exoplanet mission *TESS* (this can also be applied to *Kepler* & *K2*). All tools presented will teach the user how to work with time series data for the purpose of scientific research. \n",
    "\n",
    "The workshop assumes a basic knowledge of python and astronomy, and will walk the user through several of the concepts outlined below:\n",
    "\n",
    "1. How to obtain *TESS* data products from the MAST archive\n",
    "2. How to use *Lightkurve* to access the various data products and create time series\n",
    "3. How to analyze and assess various data anomalies and how you might visualize them\n"
   ]
  },
  {
   "cell_type": "markdown",
   "metadata": {},
   "source": [
    "## Imports\n",
    "\n",
    "This tutorial requires the use of specific packages:\n",
    "- [**Lightkurve**](https://docs.lightkurve.org/index.html) to work with *TESS* data (v2.0.1)\n",
    "- [**Matplotlib**](https://matplotlib.org/) for plotting.\n",
    "- [**Numpy**](https://numpy.org) for manipulating the data."
   ]
  },
  {
   "cell_type": "code",
   "execution_count": null,
   "metadata": {},
   "outputs": [],
   "source": [
    "import lightkurve as lk\n",
    "import numpy as np\n",
    "import matplotlib.pyplot as plt\n",
    "%matplotlib inline"
   ]
  },
  {
   "cell_type": "markdown",
   "metadata": {},
   "source": [
    "### First time users\n",
    "\n",
    "If you are not that experienced with *Python*, or cannot download *Lightkurve*, you can run this notebook as a [Colab notebook](https://colab.research.google.com/notebooks/intro.ipynb?utm_source=scs-index). Colaboratory allows users to write and execute *Python* in your browser with zero configuration required. \n",
    "\n",
    "All you need is a Google account and to copy and paste in the following command at the top of your colab notebook:\n",
    "\n",
    "`!pip install lightkurve`\n",
    "\n",
    "This downloads the *Lightkurve* package."
   ]
  },
  {
   "cell_type": "markdown",
   "metadata": {},
   "source": [
    "## Introduction to *TESS*: \n",
    "\n",
    "The *Transiting Exoplanet Survey Satellite (TESS)* is a NASA-sponsored Astrophysics Explorer-class mission that is performing a near all-sky survey to search for planets transiting nearby stars. *TESS* completed its primary mission in July of 2020, and has now entered its extended mission. The current extended mission will last until September 2022, and will continue to scan the sky for exoplanets and transient events. The *TESS* mission is now more community focused with a larger guest investigator (GI) program.\n",
    "\n",
    "Over the last three years *TESS* has observed both the northern and southern hemispheres, with each hemisphere being split into ~13 sectors. Each sector is observed for ~27 days by *TESS's* four cameras.\n",
    "\n",
    "<img src=\"sector.png\" style=\"width: 40%\"/>\n",
    "\n",
    "\n",
    "The main data products collected by the *TESS* mission are described below. \n",
    "\n",
    "- [Full Frame Images (FFIs)](https://heasarc.gsfc.nasa.gov/docs/tess/data-products.html#full-frame-images): The full sector images, with a cadence of 30-min (years 1 & 2) or 10-min (years 3 & 4).\n",
    "- [Target Pixel Files (TPFs)](https://heasarc.gsfc.nasa.gov/docs/tess/data-products.html#target-pixel-files-tpfs): Postage stamp cut outs from the FFIs, focused on a selected target of interest. Each stamp has a cadence of 2-min or 20-sec. \n",
    "- [Light Curve Files (LCFs)](https://heasarc.gsfc.nasa.gov/docs/tess/data-products.html#light-curve-files): The time series data produced for each 2-min or 20-sec TPF object. \n",
    "\n",
    "To learn more about the *TESS* mission and its data products, please visit the [*TESS* GI pages](https://heasarc.gsfc.nasa.gov/docs/tess/data-products.html)."
   ]
  },
  {
   "cell_type": "markdown",
   "metadata": {},
   "source": [
    "## 1. How to obtain *TESS* data products from the MAST archive\n",
    "\n",
    "You can access *TESS*, *Kepler*, and *K2* data via the [ Mikulksi Archive for Space Telescopes (MAST)](https://mast.stsci.edu/portal/Mashup/Clients/Mast/Portal.html) archive or via the *Lightkurve* package (see Section 2).\n",
    "\n",
    "Here, we are focusing on obtaining your data via the MAST portal. Using the portal, you can enter the name of your object, its TIC number, or position (i.e., R.A and Dec). If listed in the archive, the table containing each observation will be returned.\n",
    "\n",
    "<video width=\"100%\" height=\"100%\" controls src=\"MAST-recording.mov\" />\n"
   ]
  },
  {
   "cell_type": "markdown",
   "metadata": {},
   "source": [
    "## 2. How to use *Lightkurve* to access the various data products and create a time series\n",
    "\n",
    "\n",
    "[*Lightkurve*](https://docs.lightkurve.org/tutorials/index.html) offers a user-friendly way to analyze time series data obtained by telescopes, in particular *NASA’s Kepler* and *TESS* exoplanet missions. You can search for the various data products for *TESS* on MAST using the following *Lightkurve* functions:\n",
    "\n",
    "- To look for your object in a full frame image: [`search_tesscut()`](https://docs.lightkurve.org/reference/api/lightkurve.search_tesscut.html?highlight=search_tesscut)\n",
    "\n",
    "- To look for target pixel files:  [`search_targetpixelfile()`](https://docs.lightkurve.org/reference/api/lightkurve.search_targetpixelfile.html?highlight=search_targetpixelfile) \n",
    "\n",
    "- To obtain light curve files for your object of interest: [`search_lightcurve()`](https://docs.lightkurve.org/reference/api/lightkurve.search_lightcurve.html?highlight=search_lightcurve) \n",
    "\n",
    "For the purpose of this tutorial, we will be examining [L 98-59](https://arxiv.org/pdf/1903.08017.pdf), a bright M dwarf star at a distance of 10.6 pc. This star is host to three terrestrial-sized planets and is also known in the *TESS* system as TIC 307210830. "
   ]
  },
  {
   "cell_type": "markdown",
   "metadata": {},
   "source": [
    "### 2.1 Accessing the data products\n",
    "\n",
    "Let's go through each one of the above functions and see what data is available."
   ]
  },
  {
   "cell_type": "code",
   "execution_count": null,
   "metadata": {},
   "outputs": [],
   "source": [
    "search_ffi = lk.search_tesscut('L 98-59')\n",
    "search_tpf = lk.search_targetpixelfile('L 98-59)\n",
    "search_lcf = lk.search_lightcurve('L 98-59')"
   ]
  },
  {
   "cell_type": "code",
   "execution_count": null,
   "metadata": {},
   "outputs": [],
   "source": [
    "search_ffi"
   ]
  },
  {
   "cell_type": "markdown",
   "metadata": {},
   "source": [
    "The above table provides several important pieces of information: \n",
    "- The sector in which the object was observed.\n",
    "- The year in which the object was observed.\n",
    "- The author of the data. This has multiple options and each is a hyperlink that when clicked will provide you with more information. \n",
    "- The cadence of the observation. \n",
    "- The name of the target.\n",
    "- The distance of the observation from your target of interest. This is useful if you conduct a cone search around your objects co-ordinates. \n",
    "\n",
    "The table above indicates that our object was observed in multiple sectors. Note that in years 1 and 2 (2018 & 2019) that the cadence of the FFI data was 30-min, but in year 3 (2020/2021) it is 10-min.\n",
    "\n",
    "Let's see if any other data exists - i.e., was it observed as a target of interest and does it have a Target Pixel File. "
   ]
  },
  {
   "cell_type": "code",
   "execution_count": null,
   "metadata": {},
   "outputs": [],
   "source": [
    "search_tpf"
   ]
  },
  {
   "cell_type": "markdown",
   "metadata": {},
   "source": [
    "Great! Our object was observed as a target of interest and has 2-min and 20-sec cadenced data. This means that there should be light curve files already on the archive. Let's check those out. "
   ]
  },
  {
   "cell_type": "code",
   "execution_count": null,
   "metadata": {},
   "outputs": [],
   "source": [
    "search_lcf"
   ]
  },
  {
   "cell_type": "markdown",
   "metadata": {},
   "source": [
    "Wonderful! Light curves for our object of interest have already been created. \n",
    "\n",
    "### 2.2 Creating a light curve using a Light Curve File: \n",
    "\n",
    "Now on to getting the light curve for our object of interest. From the above table, it looks like there are multiple authors for our target. For the purpose of this tutorial, let's stick to \"SPOC\" data products which have a 2-min cadence. We can return only these results using the following commands."
   ]
  },
  {
   "cell_type": "code",
   "execution_count": null,
   "metadata": {},
   "outputs": [],
   "source": [
    "search_lcf_refined = lk.search_lightcurve('L 98-59', author=\"SPOC\", exptime=120)\n",
    "search_lcf_refined "
   ]
  },
  {
   "cell_type": "markdown",
   "metadata": {},
   "source": [
    "We now see five search results. Let's download these and see what the light curve looks like."
   ]
  },
  {
   "cell_type": "code",
   "execution_count": null,
   "metadata": {},
   "outputs": [],
   "source": [
    "lcf = search_lcf_refined.download_all()"
   ]
  },
  {
   "cell_type": "code",
   "execution_count": null,
   "metadata": {},
   "outputs": [],
   "source": [
    "lcf"
   ]
  },
  {
   "cell_type": "markdown",
   "metadata": {},
   "source": [
    "This has downloaded the light curve for each sector, and stored the data in arrays. You can look at the data for a specific sector by specifying an array number as indicated below. This displays the data for sector 2 as a table."
   ]
  },
  {
   "cell_type": "code",
   "execution_count": null,
   "metadata": {},
   "outputs": [],
   "source": [
    "lcf[0]"
   ]
  },
  {
   "cell_type": "markdown",
   "metadata": {},
   "source": [
    "In this table, you are given the time and the flux for your object of interest.\n",
    "There does however seem to be three entries for flux: flux, sap_flux, and pdcsap_flux. \n",
    "By default the flux = pdcsap_flux, but what do these entries mean?\n",
    "\n",
    "- **Simple Aperture Photometry (SAP)**:  The SAP light curve is calculated by summing together the brightness of pixels that fall within an aperture set by the *TESS* mission. This is often referred to as the *optimal aperture*, but in spite of its name, it can sometimes be improved upon! Because the SAP light curve is a sum of the brightness in chosen pixels, it is still subject to systematic artifacts of the mission.\n",
    "\n",
    "- **Pre-search Data Conditioning SAP flux (PDCSAP) flux**: SAP flux from which long term trends have been removed using so-called Co-trending Basis Vectors (CBVs). PDCSAP flux is usually cleaner data than the SAP flux and will have fewer systematic trends.\n",
    "\n",
    "\n",
    "You can switch between fluxes using the following commands,\n",
    "\n",
    "    pdcsap = lcf[0].pdcsap_flux\n",
    "    \n",
    "    sapflux = lcf[0].sap_flux\n",
    "\n",
    "Let's now plot both the pdcsap and sap light curves and see what they look like."
   ]
  },
  {
   "cell_type": "code",
   "execution_count": null,
   "metadata": {},
   "outputs": [],
   "source": [
    "ax = lcf[0].plot(column='sap_flux', normalize=True, label=\"SAP\");\n",
    "lcf[0].plot(ax=ax, column='pdcsap_flux', normalize=True, label=\"PDCSAP\");"
   ]
  },
  {
   "cell_type": "markdown",
   "metadata": {},
   "source": [
    "There are some big differences between these two light curves, specifically the dips in the SAP light curve and its overall gradent. These differences are caused by scattered light and other noise issues. For more information refer to [these tutorials](https://docs.lightkurve.org/tutorials/index.html#removing-instrumental-noise). For now, let's think about how we can manipulate the light curves.\n",
    "\n",
    "#### 2.2.1 Manipulating a light curve:\n",
    "\n",
    "There are a set of useful functions in *Lightkurve* which you can use to work with the data. \n",
    "These include:\n",
    "\n",
    "- [flatten()](https://docs.lightkurve.org/reference/api/lightkurve.LightCurve.flatten.html?highlight=flatten#lightkurve.LightCurve.flatten): Remove long term trends using a Savitzky–Golay filter\n",
    "- [remove_outliers()](https://docs.lightkurve.org/reference/api/lightkurve.LightCurve.remove_outliers.html?highlight=remove_outliers): Remove outliers using simple sigma clipping\n",
    "- [remove_nans()](https://docs.lightkurve.org/reference/api/lightkurve.LightCurve.remove_nans.html?highlight=remove_nans): Remove infinite or NaN values (these can occur during thruster firings)\n",
    "- [fold()](https://docs.lightkurve.org/reference/api/lightkurve.LightCurve.fold.html?highlight=fold): Fold the data at a particular period\n",
    "- [bin()](https://docs.lightkurve.org/reference/api/lightkurve.LightCurve.bin.html?highlight=bin): Reduce the time resolution of the array, taking the average value in each bin.\n",
    "\n",
    "We can use these simply on a light curve object. For this tutorial lets stick with the PDCSAP flux."
   ]
  },
  {
   "cell_type": "code",
   "execution_count": null,
   "metadata": {},
   "outputs": [],
   "source": [
    "ax = lcf[0].plot() \n",
    "ax.set_title(\"PDCSAP light curve of  L 98-59\")"
   ]
  },
  {
   "cell_type": "markdown",
   "metadata": {},
   "source": [
    "#### Flattening "
   ]
  },
  {
   "cell_type": "code",
   "execution_count": null,
   "metadata": {},
   "outputs": [],
   "source": [
    "flat_lc = lcf[0].flatten(window_length=401)\n",
    "flat_lc.plot();"
   ]
  },
  {
   "cell_type": "markdown",
   "metadata": {},
   "source": [
    "#### Folding the light curve\n",
    "From the [L 98-59 System](https://arxiv.org/pdf/1903.08017.pdf) paper, we know that planet c has a period of 3.690621 days. We can use the `fold()` function to find the transit in our data as shown below."
   ]
  },
  {
   "cell_type": "code",
   "execution_count": null,
   "metadata": {},
   "outputs": [],
   "source": [
    "folded_lc = flat_lc.fold(period=3.690621)\n",
    "folded_lc.plot();"
   ]
  },
  {
   "cell_type": "markdown",
   "metadata": {},
   "source": [
    "#### Binning the light curve\n",
    "Often, to see a trend, it can be beneficial to bin the data, this can be achieved via the `bin()` function."
   ]
  },
  {
   "cell_type": "code",
   "execution_count": null,
   "metadata": {
    "scrolled": false
   },
   "outputs": [],
   "source": [
    "binned_lc = folded_lc.bin(time_bin_size=0.01)\n",
    "binned_lc.plot();"
   ]
  },
  {
   "cell_type": "markdown",
   "metadata": {},
   "source": [
    "Great, we can now see our transit very clearly! Note that we can achieve the same plot from our data using one line of code instead of several, see below.\n",
    "\n",
    "`lcf[0].flatten(window_length=401).fold(period=3.690621).bin(time_bin_size=0.01).plot();`"
   ]
  },
  {
   "cell_type": "markdown",
   "metadata": {},
   "source": [
    "#### Interact with your light curve\n",
    "\n",
    "There is also an interactive tool for light curves called `.interact_bls`. Box Least Squares (BLS), is a method for identifying transit signals in a light curve.\n",
    "\n",
    "The `.interact_bls` method allows you to identify periodic transit signals in light curves by manually selecting the period and duration of the signal."
   ]
  },
  {
   "cell_type": "code",
   "execution_count": null,
   "metadata": {
    "scrolled": false
   },
   "outputs": [],
   "source": [
    "lcf[0].interact_bls()"
   ]
  },
  {
   "cell_type": "markdown",
   "metadata": {},
   "source": [
    "The light curve in the top right panel is phase-folded with the highest power period. When you zoom in on a region of period space in the BLS periodogram, it will automatically update the phase plot with the new period-at-max-power. Changing the duration using the slider in the bottom left will also update the BLS periodogram and phase-folded light curve. Finally, the parameters of the BLS model can be found in the bottom right panel.\n",
    "\n",
    "What if your object is not a target of interest but simply observed within the full framed images? You can still extract the data and create a 30-min or 10-min cadenced light curve."
   ]
  },
  {
   "cell_type": "markdown",
   "metadata": {},
   "source": [
    "### 2.3 Creating a light curve using FFI data:\n",
    "\n",
    "In our previous FFI search, we found that *L 98-59* was observed in Sector 2 with a 30-min cadence. This data is stored as the 2nd argument of the *search_ffi* array. \n",
    "\n",
    "To create the light curve from the FFI data, we must first download the relevant images. Note that we do not want the entirety of the Sector 2 FFI, only a small region surrounding our object of interest. We can specify the size of the region we want to cut out using the commands below; in this case we want a 10x10 pixel region."
   ]
  },
  {
   "cell_type": "code",
   "execution_count": null,
   "metadata": {},
   "outputs": [],
   "source": [
    "ffi_data = search_ffi[1].download(cutout_size=10)"
   ]
  },
  {
   "cell_type": "markdown",
   "metadata": {},
   "source": [
    "Let's now see what this cut out looks like and also check that our object is at the center of it."
   ]
  },
  {
   "cell_type": "code",
   "execution_count": null,
   "metadata": {},
   "outputs": [],
   "source": [
    "ffi_data.plot()"
   ]
  },
  {
   "cell_type": "markdown",
   "metadata": {},
   "source": [
    "The above figure indicates the pixels on the CCD camera, with which *L 98-59* was observed. The color indicates the amount of flux in each pixel, in electrons per second. The y-axis shows the pixel row, and the x-axis shows the pixel column. The title tells us the *TESS* Input Catalogue ([TIC](https://tess.mit.edu/science/tess-input-catalogue/)) identification number of the target, and the observing cadence of this image. By default, `plot()` shows the first observation cadence in the Sector.\n",
    "\n",
    "It looks like our star is isolated, so we can extract a light-curve by simply summing up all the pixel values in each image. To do this, we need to first define an **aperture mask**. \n",
    "\n",
    "Many decisions go into the choice of aperture mask, including the significant blending of the large *TESS* pixels. In this tutorial, we are going to define an aperture by defining a median flux value and only selecting pixels at a certain sigma above that threshold. \n",
    "\n",
    "In most situations, a threshold mask will be the best choice for custom aperture photometry, as it doesn’t involve trial and error beyond finding the best sigma value. You can define a threshold mask using the following code:"
   ]
  },
  {
   "cell_type": "code",
   "execution_count": null,
   "metadata": {},
   "outputs": [],
   "source": [
    "target_mask = ffi_data.create_threshold_mask(threshold=15, reference_pixel='center')\n",
    "n_target_pixels = target_mask.sum()\n",
    "n_target_pixels"
   ]
  },
  {
   "cell_type": "markdown",
   "metadata": {},
   "source": [
    "This indicates that there are 9 pixels which are above our threshold and in our mask. We can now check to make sure that our target is covered by this mask using plot."
   ]
  },
  {
   "cell_type": "code",
   "execution_count": null,
   "metadata": {},
   "outputs": [],
   "source": [
    "ffi_data.plot(aperture_mask=target_mask, mask_color='r');"
   ]
  },
  {
   "cell_type": "markdown",
   "metadata": {},
   "source": [
    "Nice! We see our target mask centered on the 9 brightest pixels in the center of the image. Let’s see what the light curve looks like. Note that this light curve will be uncorrected for any anomalies or noise, and that the flux is therefore based upon “Simple Aperture Photometry” (SAP).\n",
    "\n",
    "To create our light curve we will pass our **aperture_mask** to the [`to_lightcurve`](https://docs.lightkurve.org/reference/api/lightkurve.KeplerTargetPixelFile.to_lightcurve.html?highlight=to_lightcurve) function."
   ]
  },
  {
   "cell_type": "code",
   "execution_count": null,
   "metadata": {},
   "outputs": [],
   "source": [
    "ffi_lc = ffi_data.to_lightcurve(aperture_mask=target_mask)"
   ]
  },
  {
   "cell_type": "markdown",
   "metadata": {},
   "source": [
    "Once again, we can examine the light curve data as a table, but note this time that there is only one flux value and that as default this is the SAP flux."
   ]
  },
  {
   "cell_type": "code",
   "execution_count": null,
   "metadata": {},
   "outputs": [],
   "source": [
    "ffi_lc"
   ]
  },
  {
   "cell_type": "markdown",
   "metadata": {},
   "source": [
    "Let's now plot this."
   ]
  },
  {
   "cell_type": "code",
   "execution_count": null,
   "metadata": {},
   "outputs": [],
   "source": [
    "ffi_lc.plot(label=\"SAP FFI\")"
   ]
  },
  {
   "cell_type": "markdown",
   "metadata": {},
   "source": [
    "Looking at the above light curve, we can see two dominant peaks and observe that the flux in the aperture is dominated by what is known as scattered light. We can tell this because *TESS* orbits Earth twice in each sector, thus patterns which appear twice within a sector are typically related to *TESS’* orbit (such as the scattered light effect).\n",
    "\n",
    "We will discuss this issue in more detail below."
   ]
  },
  {
   "cell_type": "markdown",
   "metadata": {},
   "source": [
    "## 3. How to analyze and assess various data anomalies and how you might visualize them\n",
    "\n",
    "Lets take a look at the SAP light curves derived from our FFI data and the PDCSAP light curve derived from our Light Curve File.\n"
   ]
  },
  {
   "cell_type": "code",
   "execution_count": null,
   "metadata": {},
   "outputs": [],
   "source": [
    "ax = lcf[0].plot(column='pdcsap_flux', normalize=True, label=\"PDCSAP\");\n",
    "ffi_lc.plot(ax=ax, normalize=True, label=\"SAP FFI\")"
   ]
  },
  {
   "cell_type": "markdown",
   "metadata": {},
   "source": [
    "Looking at the figure above, you can see that the SAP light curve has a long-term change in brightness that has been removed in the PDCSAP light curve, while keeping the transits at the same depth. For most inspections, a PDCSAP light curve is what you want to use, but when looking at astronomical phenomena that aren't planets (e.g. long-term variability), the SAP flux may be preferred. \n",
    "\n",
    "The primary source of noise removed from the SAP light curve is that of scattered light. Each of TESS's cameras has a lens hood to reduce the scattered light from the Earth and the Moon. Due to TESS's wide field of view and the physical restrictions of the Sun shade, the lens hood is not 100% efficient. The effect of the scattered light on the CCD's can be seen in the video below.\n",
    "\n",
    "<video width=\"100%\" height=\"100%\" controls src=\"ScatteredLight.mov\" />"
   ]
  },
  {
   "cell_type": "markdown",
   "metadata": {},
   "source": [
    "### Interactive inspection:\n",
    "\n",
    "By interactively inspecting the area around your object of interest, you can see when scattered light comes into play, and also how it effects the light curve. To do this, we use the `interact()` function."
   ]
  },
  {
   "cell_type": "code",
   "execution_count": null,
   "metadata": {},
   "outputs": [],
   "source": [
    "ffi_data.interact()"
   ]
  },
  {
   "cell_type": "markdown",
   "metadata": {},
   "source": [
    "You can move the large bottom left slider to change the location of the vertical red bar, which indicates which cadence is being shown in the TPF postage stamp image. The slider beneath the TPF postage stamp image controls the screen stretch, which defaults to logarithmic scaling initialized to 1% and 95% lower and upper limits respectively.\n",
    "\n",
    "You can move your cursor over individual data points to show hover-over tooltips indicating additional information about that datum. Currently, the tooltips list the cadence, time, flux, and quality flags. The tools on the right hand side of the plots enable zooming and pixel selection.\n",
    "\n",
    "Interaction modes:\n",
    "\n",
    "- Clicking on a single pixel shows the time series light curve of that pixel alone.\n",
    "- Shift-clicking on multiple pixels shows the light curve using that pixel mask.\n",
    "- Shift-clicking on an already selected pixel will deselect that pixel.\n",
    "- Clicking and dragging a box will make a rectangular aperture mask — individual pixels can be deselected from this mask by shift-clicking (box deselecting does not work).\n",
    "- The screen stretch high and low limits can be changed independently by clicking and dragging each end, or simultaneously by clicking and dragging in the middle.\n",
    "- The cadence slider updates the postage stamp image at the position of the vertical red bar in the light curve.\n",
    "- Clicking on a position in the light curve automatically seeks to that cadence number.\n",
    "- The left and right arrows can be clicked to increment the cadence number by one.\n",
    "- The interact() tool works for *TESS* data and *Kepler/K2*. \n",
    "\n",
    "This tool can also be used to see how crowded the field of your sources is and if anything else unusual happened during observation."
   ]
  },
  {
   "cell_type": "markdown",
   "metadata": {},
   "source": [
    "### Interact Sky:\n",
    "\n",
    "*Lightkurve* has an additional tool to interactively inspect target pixel files — `.interact_sky`. This method brings up a single frame of the target pixel file with targets identified by Gaia marked by red circles. The size of the circle scales with the magnitude of the target, where brighter sources are larger and fainter sources are smaller. Using your cursor, you can hover over the red circles to display useful information from Gaia, including its Gaia ID, G band magnitude, and coordinates."
   ]
  },
  {
   "cell_type": "code",
   "execution_count": null,
   "metadata": {},
   "outputs": [],
   "source": [
    "ffi_data.interact_sky()"
   ]
  },
  {
   "cell_type": "markdown",
   "metadata": {},
   "source": [
    "This tool is useful for crowded sources. "
   ]
  },
  {
   "cell_type": "markdown",
   "metadata": {},
   "source": [
    "### Cadence Quality Flags:\n",
    "\n",
    "The *TESS* pipeline populates a series of quality flags to indicate when a cadence may have been taken during an anomalous event.  These flags are available in the Light Curve Files, the Target Pixel Files, and a subset are available for the FFIs. \n",
    "\n",
    "### Aperture Mask Image Flags:\n",
    "\n",
    "The Light Curve Files and Target Pixel Files contain an image in the **APERTURE FITS** extension that describes how each pixel was used in the processing. \n",
    "\n",
    "Tables of these flags can be found [here](https://outerspace.stsci.edu/display/TESS/2.0+-+Data+Product+Overview#id-2.0DataProductOverview-Table:CadenceQualityFlags), where a description of each flag is provided."
   ]
  },
  {
   "cell_type": "markdown",
   "metadata": {},
   "source": [
    "## Additional Resources \n",
    "\n",
    "In this tutorial, we have covered the basics of how to obtain, reduce and analyze *TESS* data using *Lightkurve*. We have, however, only skimmed the surface of what *Lightkurve* can do and how to investigate the data. For more detailed tutorials as well as other useful tools, please visit the following pages.\n",
    "\n",
    "- [*Lightkurve Tutorials page*](https://docs.lightkurve.org/tutorials/index.html): A set of 21 tutorials dealing with Kepler/K2 and TESS data\n",
    "- [TESS GI data products page](https://heasarc.gsfc.nasa.gov/docs/tess/data-analysis-tools.html): A set of 7 TESS specific tutorials.\n",
    "- [STScI Kepler K3 notebooks](https://github.com/spacetelescope/notebooks/tree/master/notebooks/MAST/Kepler): A set of notebooks produced by a collaboration between NumFocus, MAST, *Lightkurve*, and TESS GI office. They make use of python astronomical data packages to demonstrate how to analyze time series data from these NASA missions. New tools are presented here and techniques for the advanced user.\n"
   ]
  }
 ],
 "metadata": {
  "kernelspec": {
   "display_name": "Python 3",
   "language": "python",
   "name": "python3"
  },
  "language_info": {
   "codemirror_mode": {
    "name": "ipython",
    "version": 3
   },
   "file_extension": ".py",
   "mimetype": "text/x-python",
   "name": "python",
   "nbconvert_exporter": "python",
   "pygments_lexer": "ipython3",
   "version": "3.7.7"
  }
 },
 "nbformat": 4,
 "nbformat_minor": 4
}
